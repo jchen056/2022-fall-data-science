{
 "cells": [
  {
   "cell_type": "code",
   "execution_count": 1,
   "id": "cc2138ea",
   "metadata": {},
   "outputs": [
    {
     "name": "stdout",
     "output_type": "stream",
     "text": [
      "BX-Police.csv     Sales.csv         budget-sample.csv\r\n",
      "Iris.csv          Stocks.csv\r\n"
     ]
    }
   ],
   "source": [
    "! ls data/\n",
    "import pandas as pd\n",
    "import matplotlib.pyplot as plt\n",
    "import numpy as np"
   ]
  },
  {
   "cell_type": "markdown",
   "id": "9cca801f",
   "metadata": {},
   "source": [
    "# Using budget-sample.csv\n",
    "* Plot a histogram of the base_salary.  Write one sentence about what this tells you about base salaries.\n",
    "* Make a boxplot of base salaries, what does this tell you about base salaries?\n",
    "* Make a boxplot of base salaries per (or by) work_location_borough, what does this tell you about the difference in working in each location?\n",
    "* Make a plot visualizing the difference average base salaries based on agency_name.  Who would you want to work for based on this information?\n",
    "<br><br>\n",
    "* __Tell me something new, cool, and interesting about this data__\n"
   ]
  },
  {
   "cell_type": "code",
   "execution_count": 2,
   "id": "0b39cf6f",
   "metadata": {},
   "outputs": [
    {
     "name": "stdout",
     "output_type": "stream",
     "text": [
      "shape of df: (16660, 17)\n"
     ]
    },
    {
     "data": {
      "text/html": [
       "<div>\n",
       "<style scoped>\n",
       "    .dataframe tbody tr th:only-of-type {\n",
       "        vertical-align: middle;\n",
       "    }\n",
       "\n",
       "    .dataframe tbody tr th {\n",
       "        vertical-align: top;\n",
       "    }\n",
       "\n",
       "    .dataframe thead th {\n",
       "        text-align: right;\n",
       "    }\n",
       "</style>\n",
       "<table border=\"1\" class=\"dataframe\">\n",
       "  <thead>\n",
       "    <tr style=\"text-align: right;\">\n",
       "      <th></th>\n",
       "      <th>fiscal_year</th>\n",
       "      <th>payroll_number</th>\n",
       "      <th>agency_name</th>\n",
       "      <th>last_name</th>\n",
       "      <th>first_name</th>\n",
       "      <th>mid_init</th>\n",
       "      <th>agency_start_date</th>\n",
       "      <th>work_location_borough</th>\n",
       "      <th>title_description</th>\n",
       "      <th>leave_status_as_of_june_30</th>\n",
       "      <th>base_salary</th>\n",
       "      <th>pay_basis</th>\n",
       "      <th>regular_hours</th>\n",
       "      <th>regular_gross_paid</th>\n",
       "      <th>ot_hours</th>\n",
       "      <th>total_ot_paid</th>\n",
       "      <th>total_other_pay</th>\n",
       "    </tr>\n",
       "  </thead>\n",
       "  <tbody>\n",
       "    <tr>\n",
       "      <th>0</th>\n",
       "      <td>2020</td>\n",
       "      <td>826</td>\n",
       "      <td>DEPT OF ENVIRONMENT PROTECTION</td>\n",
       "      <td>BROWN</td>\n",
       "      <td>TRACYANN</td>\n",
       "      <td>NaN</td>\n",
       "      <td>02/23/2004</td>\n",
       "      <td>QUEENS</td>\n",
       "      <td>COMMUNITY ASSISTANT</td>\n",
       "      <td>ACTIVE</td>\n",
       "      <td>37816.0</td>\n",
       "      <td>per Annum</td>\n",
       "      <td>2080.0</td>\n",
       "      <td>37235.48</td>\n",
       "      <td>11.00</td>\n",
       "      <td>206.04</td>\n",
       "      <td>1309.56</td>\n",
       "    </tr>\n",
       "    <tr>\n",
       "      <th>1</th>\n",
       "      <td>2020</td>\n",
       "      <td>56</td>\n",
       "      <td>POLICE DEPARTMENT</td>\n",
       "      <td>WONG</td>\n",
       "      <td>CHIWAI</td>\n",
       "      <td>NaN</td>\n",
       "      <td>07/08/2015</td>\n",
       "      <td>BROOKLYN</td>\n",
       "      <td>POLICE OFFICER</td>\n",
       "      <td>ACTIVE</td>\n",
       "      <td>63125.0</td>\n",
       "      <td>per Annum</td>\n",
       "      <td>2080.0</td>\n",
       "      <td>60758.85</td>\n",
       "      <td>343.13</td>\n",
       "      <td>10842.71</td>\n",
       "      <td>10325.31</td>\n",
       "    </tr>\n",
       "    <tr>\n",
       "      <th>2</th>\n",
       "      <td>2020</td>\n",
       "      <td>742</td>\n",
       "      <td>DEPT OF ED PEDAGOGICAL</td>\n",
       "      <td>FARRELL</td>\n",
       "      <td>TARA</td>\n",
       "      <td>E</td>\n",
       "      <td>09/09/1996</td>\n",
       "      <td>MANHATTAN</td>\n",
       "      <td>TEACHER SPECIAL EDUCATION</td>\n",
       "      <td>ACTIVE</td>\n",
       "      <td>121226.0</td>\n",
       "      <td>per Annum</td>\n",
       "      <td>0.0</td>\n",
       "      <td>118638.72</td>\n",
       "      <td>0.00</td>\n",
       "      <td>0.00</td>\n",
       "      <td>13069.69</td>\n",
       "    </tr>\n",
       "    <tr>\n",
       "      <th>3</th>\n",
       "      <td>2020</td>\n",
       "      <td>827</td>\n",
       "      <td>DEPARTMENT OF SANITATION</td>\n",
       "      <td>ATTANASIO</td>\n",
       "      <td>JOSEPH</td>\n",
       "      <td>NaN</td>\n",
       "      <td>10/18/1999</td>\n",
       "      <td>QUEENS</td>\n",
       "      <td>SANITATION WORKER</td>\n",
       "      <td>ACTIVE</td>\n",
       "      <td>77318.0</td>\n",
       "      <td>per Annum</td>\n",
       "      <td>2080.0</td>\n",
       "      <td>75833.83</td>\n",
       "      <td>455.50</td>\n",
       "      <td>28225.89</td>\n",
       "      <td>17602.11</td>\n",
       "    </tr>\n",
       "    <tr>\n",
       "      <th>4</th>\n",
       "      <td>2020</td>\n",
       "      <td>744</td>\n",
       "      <td>DEPT OF ED PARA PROFESSIONALS</td>\n",
       "      <td>MCNEIL</td>\n",
       "      <td>GLORIA</td>\n",
       "      <td>D</td>\n",
       "      <td>09/28/1989</td>\n",
       "      <td>MANHATTAN</td>\n",
       "      <td>ANNUAL ED PARA</td>\n",
       "      <td>ACTIVE</td>\n",
       "      <td>46333.0</td>\n",
       "      <td>per Annum</td>\n",
       "      <td>0.0</td>\n",
       "      <td>45344.28</td>\n",
       "      <td>0.00</td>\n",
       "      <td>0.00</td>\n",
       "      <td>5076.22</td>\n",
       "    </tr>\n",
       "  </tbody>\n",
       "</table>\n",
       "</div>"
      ],
      "text/plain": [
       "   fiscal_year  payroll_number                     agency_name  last_name  \\\n",
       "0         2020             826  DEPT OF ENVIRONMENT PROTECTION      BROWN   \n",
       "1         2020              56               POLICE DEPARTMENT       WONG   \n",
       "2         2020             742          DEPT OF ED PEDAGOGICAL    FARRELL   \n",
       "3         2020             827        DEPARTMENT OF SANITATION  ATTANASIO   \n",
       "4         2020             744   DEPT OF ED PARA PROFESSIONALS     MCNEIL   \n",
       "\n",
       "  first_name mid_init agency_start_date work_location_borough  \\\n",
       "0   TRACYANN      NaN        02/23/2004                QUEENS   \n",
       "1     CHIWAI      NaN        07/08/2015              BROOKLYN   \n",
       "2       TARA        E        09/09/1996             MANHATTAN   \n",
       "3     JOSEPH      NaN        10/18/1999                QUEENS   \n",
       "4     GLORIA        D        09/28/1989             MANHATTAN   \n",
       "\n",
       "           title_description leave_status_as_of_june_30  base_salary  \\\n",
       "0        COMMUNITY ASSISTANT                     ACTIVE      37816.0   \n",
       "1             POLICE OFFICER                     ACTIVE      63125.0   \n",
       "2  TEACHER SPECIAL EDUCATION                     ACTIVE     121226.0   \n",
       "3          SANITATION WORKER                     ACTIVE      77318.0   \n",
       "4             ANNUAL ED PARA                     ACTIVE      46333.0   \n",
       "\n",
       "   pay_basis  regular_hours  regular_gross_paid  ot_hours  total_ot_paid  \\\n",
       "0  per Annum         2080.0            37235.48     11.00         206.04   \n",
       "1  per Annum         2080.0            60758.85    343.13       10842.71   \n",
       "2  per Annum            0.0           118638.72      0.00           0.00   \n",
       "3  per Annum         2080.0            75833.83    455.50       28225.89   \n",
       "4  per Annum            0.0            45344.28      0.00           0.00   \n",
       "\n",
       "   total_other_pay  \n",
       "0          1309.56  \n",
       "1         10325.31  \n",
       "2         13069.69  \n",
       "3         17602.11  \n",
       "4          5076.22  "
      ]
     },
     "execution_count": 2,
     "metadata": {},
     "output_type": "execute_result"
    }
   ],
   "source": [
    "df1=pd.read_csv('data/budget-sample.csv')\n",
    "\n",
    "print(\"shape of df:\",df1.shape)\n",
    "df1.head()"
   ]
  },
  {
   "cell_type": "markdown",
   "id": "5ee63ac8",
   "metadata": {},
   "source": [
    "## Data inspection"
   ]
  },
  {
   "cell_type": "code",
   "execution_count": 9,
   "id": "e0d7f39c",
   "metadata": {},
   "outputs": [
    {
     "data": {
      "text/plain": [
       "fiscal_year                      0\n",
       "payroll_number                   0\n",
       "agency_name                      0\n",
       "last_name                       18\n",
       "first_name                      18\n",
       "mid_init                      6706\n",
       "agency_start_date                3\n",
       "work_location_borough            0\n",
       "title_description                1\n",
       "leave_status_as_of_june_30       0\n",
       "base_salary                      0\n",
       "pay_basis                        0\n",
       "regular_hours                    0\n",
       "regular_gross_paid               0\n",
       "ot_hours                         0\n",
       "total_ot_paid                    0\n",
       "total_other_pay                  0\n",
       "dtype: int64"
      ]
     },
     "execution_count": 9,
     "metadata": {},
     "output_type": "execute_result"
    }
   ],
   "source": [
    "df1.isnull().sum()"
   ]
  },
  {
   "cell_type": "code",
   "execution_count": null,
   "id": "f03a0529",
   "metadata": {},
   "outputs": [],
   "source": [
    "df1.duplicated().sum()"
   ]
  },
  {
   "cell_type": "markdown",
   "id": "e0d12631",
   "metadata": {},
   "source": [
    "## Data visualization"
   ]
  },
  {
   "cell_type": "code",
   "execution_count": 22,
   "id": "c1b11da8",
   "metadata": {},
   "outputs": [
    {
     "name": "stdout",
     "output_type": "stream",
     "text": [
      "the distribution is more skewed toward left\n"
     ]
    },
    {
     "data": {
      "image/png": "[encoded data removed]",
      "text/plain": [
       "<Figure size 432x288 with 1 Axes>"
      ]
     },
     "metadata": {
      "needs_background": "light"
     },
     "output_type": "display_data"
    }
   ],
   "source": [
    "plt.hist(df1['base_salary'],density=True, facecolor='g')\n",
    "plt.xlabel('base salary')\n",
    "plt.ylabel(\"probability\")\n",
    "plt.axvline(x =df1.base_salary.mean(), color = 'b')\n",
    "print(\"the distribution is more skewed toward left\")"
   ]
  },
  {
   "cell_type": "code",
   "execution_count": 3,
   "id": "68756718",
   "metadata": {},
   "outputs": [
    {
     "name": "stdout",
     "output_type": "stream",
     "text": [
      "we have a lot of outliers whose base salaries are really higher\n"
     ]
    },
    {
     "data": {
      "image/png": "[encoded data removed]",
      "text/plain": [
       "<Figure size 432x288 with 1 Axes>"
      ]
     },
     "metadata": {
      "needs_background": "light"
     },
     "output_type": "display_data"
    }
   ],
   "source": [
    "plt.boxplot(df1['base_salary'])\n",
    "print(\"we have a lot of outliers whose base salaries are really higher\")"
   ]
  },
  {
   "cell_type": "code",
   "execution_count": 30,
   "id": "9e07ef12",
   "metadata": {},
   "outputs": [
    {
     "data": {
      "text/plain": [
       "MANHATTAN    11083\n",
       "QUEENS        2367\n",
       "BROOKLYN      2121\n",
       "BRONX         1089\n",
       "Name: work_location_borough, dtype: int64"
      ]
     },
     "execution_count": 30,
     "metadata": {},
     "output_type": "execute_result"
    }
   ],
   "source": [
    "df1['work_location_borough'].value_counts()"
   ]
  },
  {
   "cell_type": "code",
   "execution_count": 39,
   "id": "1abb467d",
   "metadata": {},
   "outputs": [
    {
     "data": {
      "text/plain": [
       "{'whiskers': [<matplotlib.lines.Line2D at 0x7fb8f9dec9a0>,\n",
       "  <matplotlib.lines.Line2D at 0x7fb8f9decc70>,\n",
       "  <matplotlib.lines.Line2D at 0x7fb8f9dfdd90>,\n",
       "  <matplotlib.lines.Line2D at 0x7fb8f9e080a0>,\n",
       "  <matplotlib.lines.Line2D at 0x7fb8f9e161c0>,\n",
       "  <matplotlib.lines.Line2D at 0x7fb8f9e16490>,\n",
       "  <matplotlib.lines.Line2D at 0x7fb8f9e225b0>,\n",
       "  <matplotlib.lines.Line2D at 0x7fb8f9e22880>],\n",
       " 'caps': [<matplotlib.lines.Line2D at 0x7fb8f9decf40>,\n",
       "  <matplotlib.lines.Line2D at 0x7fb8f9dfd250>,\n",
       "  <matplotlib.lines.Line2D at 0x7fb8f9e08370>,\n",
       "  <matplotlib.lines.Line2D at 0x7fb8f9e08640>,\n",
       "  <matplotlib.lines.Line2D at 0x7fb8f9e16760>,\n",
       "  <matplotlib.lines.Line2D at 0x7fb8f9e16a30>,\n",
       "  <matplotlib.lines.Line2D at 0x7fb8f9e22b50>,\n",
       "  <matplotlib.lines.Line2D at 0x7fb8f9e22e20>],\n",
       " 'boxes': [<matplotlib.lines.Line2D at 0x7fb8f9dec6d0>,\n",
       "  <matplotlib.lines.Line2D at 0x7fb8f9dfdac0>,\n",
       "  <matplotlib.lines.Line2D at 0x7fb8f9e08eb0>,\n",
       "  <matplotlib.lines.Line2D at 0x7fb8f9e222e0>],\n",
       " 'medians': [<matplotlib.lines.Line2D at 0x7fb8f9dfd520>,\n",
       "  <matplotlib.lines.Line2D at 0x7fb8f9e08910>,\n",
       "  <matplotlib.lines.Line2D at 0x7fb8f9e16d00>,\n",
       "  <matplotlib.lines.Line2D at 0x7fb8f9e2f130>],\n",
       " 'fliers': [<matplotlib.lines.Line2D at 0x7fb8f9dfd7f0>,\n",
       "  <matplotlib.lines.Line2D at 0x7fb8f9e08be0>,\n",
       "  <matplotlib.lines.Line2D at 0x7fb8f9e16fd0>,\n",
       "  <matplotlib.lines.Line2D at 0x7fb8f9e2f400>],\n",
       " 'means': []}"
      ]
     },
     "execution_count": 39,
     "metadata": {},
     "output_type": "execute_result"
    },
    {
     "data": {
      "image/png": "[encoded data removed]",
      "text/plain": [
       "<Figure size 432x288 with 1 Axes>"
      ]
     },
     "metadata": {
      "needs_background": "light"
     },
     "output_type": "display_data"
    }
   ],
   "source": [
    "# Multiple box plots on one Axes\n",
    "data_Manhattan=df1[df1['work_location_borough']=='MANHATTAN']\n",
    "data_queens=df1[df1['work_location_borough']=='QUEENS']\n",
    "data_brooklyn=df1[df1['work_location_borough']=='BROOKLYN']\n",
    "data_bronx=df1[df1['work_location_borough']=='BRONX']\n",
    "data =[list(data_Manhattan['base_salary']), list(data_queens['base_salary']), list(data_brooklyn['base_salary']), list(data_bronx['base_salary'])]\n",
    "fig, ax = plt.subplots()\n",
    "ax.boxplot(data)"
   ]
  },
  {
   "cell_type": "code",
   "execution_count": 5,
   "id": "80d8aad3",
   "metadata": {},
   "outputs": [
    {
     "data": {
      "text/plain": [
       "agency_name\n",
       "ADMIN FOR CHILDREN'S SVCS       68875.882353\n",
       "ADMIN TRIALS AND HEARINGS       57382.421053\n",
       "BOARD OF CORRECTION             73305.000000\n",
       "BOARD OF ELECTION               55018.659574\n",
       "BOROUGH PRESIDENT-BRONX        112743.000000\n",
       "                                   ...      \n",
       "PUBLIC ADVOCATE                 83339.802500\n",
       "QUEENS COMMUNITY BOARD #8      126801.000000\n",
       "TAX COMMISSION                 129626.700000\n",
       "TAXI & LIMOUSINE COMMISSION     61411.878788\n",
       "TEACHERS RETIREMENT SYSTEM      85316.315789\n",
       "Name: base_salary, Length: 87, dtype: float64"
      ]
     },
     "execution_count": 5,
     "metadata": {},
     "output_type": "execute_result"
    }
   ],
   "source": [
    "gb_agency=df1.groupby('agency_name')\n",
    "gb_agency['base_salary'].mean()"
   ]
  },
  {
   "cell_type": "code",
   "execution_count": 13,
   "id": "2e0bc6c8",
   "metadata": {},
   "outputs": [
    {
     "data": {
      "text/plain": [
       "<pandas.core.groupby.generic.SeriesGroupBy object at 0x7fec41db19d0>"
      ]
     },
     "execution_count": 13,
     "metadata": {},
     "output_type": "execute_result"
    }
   ],
   "source": [
    "df1['agency_name']"
   ]
  },
  {
   "cell_type": "markdown",
   "id": "5fe01082",
   "metadata": {},
   "source": [
    "# Using the BX-Police.csv data:\n",
    "* create a time series chart illustrating their average base salary over time (by fiscal_year).  \n",
    "* What trend does this show? \n",
    "* Why do you think the trend exists?\n"
   ]
  },
  {
   "cell_type": "code",
   "execution_count": 3,
   "id": "dc30ddab",
   "metadata": {},
   "outputs": [
    {
     "data": {
      "text/html": [
       "<div>\n",
       "<style scoped>\n",
       "    .dataframe tbody tr th:only-of-type {\n",
       "        vertical-align: middle;\n",
       "    }\n",
       "\n",
       "    .dataframe tbody tr th {\n",
       "        vertical-align: top;\n",
       "    }\n",
       "\n",
       "    .dataframe thead th {\n",
       "        text-align: right;\n",
       "    }\n",
       "</style>\n",
       "<table border=\"1\" class=\"dataframe\">\n",
       "  <thead>\n",
       "    <tr style=\"text-align: right;\">\n",
       "      <th></th>\n",
       "      <th>fiscal_year</th>\n",
       "      <th>payroll_number</th>\n",
       "      <th>agency_name</th>\n",
       "      <th>last_name</th>\n",
       "      <th>first_name</th>\n",
       "      <th>mid_init</th>\n",
       "      <th>agency_start_date</th>\n",
       "      <th>work_location_borough</th>\n",
       "      <th>title_description</th>\n",
       "      <th>leave_status_as_of_june_30</th>\n",
       "      <th>base_salary</th>\n",
       "      <th>pay_basis</th>\n",
       "      <th>regular_hours</th>\n",
       "      <th>regular_gross_paid</th>\n",
       "      <th>ot_hours</th>\n",
       "      <th>total_ot_paid</th>\n",
       "      <th>total_other_pay</th>\n",
       "    </tr>\n",
       "  </thead>\n",
       "  <tbody>\n",
       "    <tr>\n",
       "      <th>0</th>\n",
       "      <td>2019</td>\n",
       "      <td>56.0</td>\n",
       "      <td>POLICE DEPARTMENT</td>\n",
       "      <td>GUZMAN</td>\n",
       "      <td>ALBERTO</td>\n",
       "      <td>NaN</td>\n",
       "      <td>07/05/2017</td>\n",
       "      <td>BRONX</td>\n",
       "      <td>POLICE OFFICER</td>\n",
       "      <td>ACTIVE</td>\n",
       "      <td>45000.0</td>\n",
       "      <td>per Annum</td>\n",
       "      <td>2040.00</td>\n",
       "      <td>43541.17</td>\n",
       "      <td>243.83</td>\n",
       "      <td>8597.10</td>\n",
       "      <td>3710.14</td>\n",
       "    </tr>\n",
       "    <tr>\n",
       "      <th>1</th>\n",
       "      <td>2015</td>\n",
       "      <td>NaN</td>\n",
       "      <td>POLICE DEPARTMENT</td>\n",
       "      <td>DERASMO</td>\n",
       "      <td>MARIELENA</td>\n",
       "      <td>NaN</td>\n",
       "      <td>07/06/2010</td>\n",
       "      <td>BRONX</td>\n",
       "      <td>POLICE OFFICER</td>\n",
       "      <td>ACTIVE</td>\n",
       "      <td>56609.0</td>\n",
       "      <td>per Annum</td>\n",
       "      <td>2085.72</td>\n",
       "      <td>54578.49</td>\n",
       "      <td>335.83</td>\n",
       "      <td>13344.33</td>\n",
       "      <td>4387.03</td>\n",
       "    </tr>\n",
       "    <tr>\n",
       "      <th>2</th>\n",
       "      <td>2018</td>\n",
       "      <td>56.0</td>\n",
       "      <td>POLICE DEPARTMENT</td>\n",
       "      <td>GARCES</td>\n",
       "      <td>MICHAEL</td>\n",
       "      <td>A</td>\n",
       "      <td>01/09/2013</td>\n",
       "      <td>BRONX</td>\n",
       "      <td>POLICE OFFICER</td>\n",
       "      <td>ACTIVE</td>\n",
       "      <td>63125.0</td>\n",
       "      <td>per Annum</td>\n",
       "      <td>2045.72</td>\n",
       "      <td>62809.14</td>\n",
       "      <td>145.00</td>\n",
       "      <td>7349.27</td>\n",
       "      <td>9801.34</td>\n",
       "    </tr>\n",
       "    <tr>\n",
       "      <th>3</th>\n",
       "      <td>2017</td>\n",
       "      <td>NaN</td>\n",
       "      <td>POLICE DEPARTMENT</td>\n",
       "      <td>ROSSI</td>\n",
       "      <td>THOMAS</td>\n",
       "      <td>C</td>\n",
       "      <td>01/06/2016</td>\n",
       "      <td>BRONX</td>\n",
       "      <td>POLICE OFFICER</td>\n",
       "      <td>ACTIVE</td>\n",
       "      <td>46805.0</td>\n",
       "      <td>per Annum</td>\n",
       "      <td>2051.43</td>\n",
       "      <td>49411.14</td>\n",
       "      <td>121.00</td>\n",
       "      <td>4213.27</td>\n",
       "      <td>6490.72</td>\n",
       "    </tr>\n",
       "    <tr>\n",
       "      <th>4</th>\n",
       "      <td>2019</td>\n",
       "      <td>56.0</td>\n",
       "      <td>POLICE DEPARTMENT</td>\n",
       "      <td>GARRETT</td>\n",
       "      <td>DENISE</td>\n",
       "      <td>NaN</td>\n",
       "      <td>05/30/2001</td>\n",
       "      <td>BRONX</td>\n",
       "      <td>SCHOOL SAFETY AGENT</td>\n",
       "      <td>ACTIVE</td>\n",
       "      <td>46737.0</td>\n",
       "      <td>per Annum</td>\n",
       "      <td>2040.00</td>\n",
       "      <td>46608.91</td>\n",
       "      <td>0.00</td>\n",
       "      <td>0.00</td>\n",
       "      <td>1202.56</td>\n",
       "    </tr>\n",
       "  </tbody>\n",
       "</table>\n",
       "</div>"
      ],
      "text/plain": [
       "   fiscal_year  payroll_number        agency_name last_name first_name  \\\n",
       "0         2019            56.0  POLICE DEPARTMENT    GUZMAN    ALBERTO   \n",
       "1         2015             NaN  POLICE DEPARTMENT   DERASMO  MARIELENA   \n",
       "2         2018            56.0  POLICE DEPARTMENT    GARCES    MICHAEL   \n",
       "3         2017             NaN  POLICE DEPARTMENT     ROSSI     THOMAS   \n",
       "4         2019            56.0  POLICE DEPARTMENT   GARRETT     DENISE   \n",
       "\n",
       "  mid_init agency_start_date work_location_borough    title_description  \\\n",
       "0      NaN        07/05/2017                 BRONX       POLICE OFFICER   \n",
       "1      NaN        07/06/2010                 BRONX       POLICE OFFICER   \n",
       "2        A        01/09/2013                 BRONX       POLICE OFFICER   \n",
       "3        C        01/06/2016                 BRONX       POLICE OFFICER   \n",
       "4      NaN        05/30/2001                 BRONX  SCHOOL SAFETY AGENT   \n",
       "\n",
       "  leave_status_as_of_june_30  base_salary  pay_basis  regular_hours  \\\n",
       "0                     ACTIVE      45000.0  per Annum        2040.00   \n",
       "1                     ACTIVE      56609.0  per Annum        2085.72   \n",
       "2                     ACTIVE      63125.0  per Annum        2045.72   \n",
       "3                     ACTIVE      46805.0  per Annum        2051.43   \n",
       "4                     ACTIVE      46737.0  per Annum        2040.00   \n",
       "\n",
       "   regular_gross_paid  ot_hours  total_ot_paid  total_other_pay  \n",
       "0            43541.17    243.83        8597.10          3710.14  \n",
       "1            54578.49    335.83       13344.33          4387.03  \n",
       "2            62809.14    145.00        7349.27          9801.34  \n",
       "3            49411.14    121.00        4213.27          6490.72  \n",
       "4            46608.91      0.00           0.00          1202.56  "
      ]
     },
     "execution_count": 3,
     "metadata": {},
     "output_type": "execute_result"
    }
   ],
   "source": [
    "df2=pd.read_csv('data/BX-Police.csv')\n",
    "df2.head()"
   ]
  },
  {
   "cell_type": "code",
   "execution_count": 19,
   "id": "b2ac0c28",
   "metadata": {},
   "outputs": [
    {
     "data": {
      "text/plain": [
       "0"
      ]
     },
     "execution_count": 19,
     "metadata": {},
     "output_type": "execute_result"
    }
   ],
   "source": [
    "df2['base_salary'].isnull().sum()\n",
    "df2.duplicated().sum()"
   ]
  },
  {
   "cell_type": "code",
   "execution_count": 8,
   "id": "a4811143",
   "metadata": {},
   "outputs": [
    {
     "data": {
      "text/plain": [
       "fiscal_year\n",
       "2015    352\n",
       "2016    327\n",
       "2017    380\n",
       "2018    375\n",
       "2019    386\n",
       "2020    381\n",
       "2021    373\n",
       "Name: fiscal_year, dtype: int64"
      ]
     },
     "execution_count": 8,
     "metadata": {},
     "output_type": "execute_result"
    }
   ],
   "source": [
    "gb_year=df2.groupby('fiscal_year')\n",
    "gb_year['fiscal_year'].count()"
   ]
  },
  {
   "cell_type": "code",
   "execution_count": 12,
   "id": "98a095e1",
   "metadata": {},
   "outputs": [
    {
     "data": {
      "text/plain": [
       "fiscal_year\n",
       "2015    61299.402898\n",
       "2016    61601.310642\n",
       "2017    65231.981895\n",
       "2018    65147.201387\n",
       "2019    64427.547047\n",
       "2020    67625.692756\n",
       "2021    68584.475576\n",
       "Name: base_salary, dtype: float64"
      ]
     },
     "execution_count": 12,
     "metadata": {},
     "output_type": "execute_result"
    }
   ],
   "source": [
    "gb_year['base_salary'].mean()"
   ]
  },
  {
   "cell_type": "code",
   "execution_count": 14,
   "id": "b213c02b",
   "metadata": {},
   "outputs": [
    {
     "data": {
      "text/plain": [
       "[<matplotlib.lines.Line2D at 0x7f810b410fa0>]"
      ]
     },
     "execution_count": 14,
     "metadata": {},
     "output_type": "execute_result"
    },
    {
     "data": {
      "image/png": "[encoded data removed]",
      "text/plain": [
       "<Figure size 432x288 with 1 Axes>"
      ]
     },
     "metadata": {
      "needs_background": "light"
     },
     "output_type": "display_data"
    }
   ],
   "source": [
    "plt.plot([2015,2016,2017,2018,2019,2020,2021],gb_year['base_salary'].mean())"
   ]
  },
  {
   "cell_type": "markdown",
   "id": "9d3eb95b",
   "metadata": {},
   "source": [
    "# Using Stocks.csv\n",
    "* Tell me a story about the Google stock for the year. \n",
    "* Any story you'd like to tell. \n"
   ]
  },
  {
   "cell_type": "code",
   "execution_count": 15,
   "id": "46f2609c",
   "metadata": {},
   "outputs": [
    {
     "data": {
      "text/html": [
       "<div>\n",
       "<style scoped>\n",
       "    .dataframe tbody tr th:only-of-type {\n",
       "        vertical-align: middle;\n",
       "    }\n",
       "\n",
       "    .dataframe tbody tr th {\n",
       "        vertical-align: top;\n",
       "    }\n",
       "\n",
       "    .dataframe thead th {\n",
       "        text-align: right;\n",
       "    }\n",
       "</style>\n",
       "<table border=\"1\" class=\"dataframe\">\n",
       "  <thead>\n",
       "    <tr style=\"text-align: right;\">\n",
       "      <th></th>\n",
       "      <th>Date</th>\n",
       "      <th>Volume</th>\n",
       "      <th>High</th>\n",
       "      <th>Low</th>\n",
       "      <th>Open</th>\n",
       "      <th>Close</th>\n",
       "      <th>Adj Close</th>\n",
       "      <th>Ticker</th>\n",
       "    </tr>\n",
       "  </thead>\n",
       "  <tbody>\n",
       "    <tr>\n",
       "      <th>0</th>\n",
       "      <td>2021-01-04</td>\n",
       "      <td>1901900</td>\n",
       "      <td>1760.650024</td>\n",
       "      <td>1707.849976</td>\n",
       "      <td>1757.540039</td>\n",
       "      <td>1728.239990</td>\n",
       "      <td>1728.239990</td>\n",
       "      <td>GOOG</td>\n",
       "    </tr>\n",
       "    <tr>\n",
       "      <th>1</th>\n",
       "      <td>2021-01-05</td>\n",
       "      <td>1145300</td>\n",
       "      <td>1747.670044</td>\n",
       "      <td>1718.015015</td>\n",
       "      <td>1725.000000</td>\n",
       "      <td>1740.920044</td>\n",
       "      <td>1740.920044</td>\n",
       "      <td>GOOG</td>\n",
       "    </tr>\n",
       "    <tr>\n",
       "      <th>2</th>\n",
       "      <td>2021-01-06</td>\n",
       "      <td>2602100</td>\n",
       "      <td>1748.000000</td>\n",
       "      <td>1699.000000</td>\n",
       "      <td>1702.630005</td>\n",
       "      <td>1735.290039</td>\n",
       "      <td>1735.290039</td>\n",
       "      <td>GOOG</td>\n",
       "    </tr>\n",
       "    <tr>\n",
       "      <th>3</th>\n",
       "      <td>2021-01-07</td>\n",
       "      <td>2265000</td>\n",
       "      <td>1788.400024</td>\n",
       "      <td>1737.050049</td>\n",
       "      <td>1740.060059</td>\n",
       "      <td>1787.250000</td>\n",
       "      <td>1787.250000</td>\n",
       "      <td>GOOG</td>\n",
       "    </tr>\n",
       "    <tr>\n",
       "      <th>4</th>\n",
       "      <td>2021-01-08</td>\n",
       "      <td>2050600</td>\n",
       "      <td>1809.839966</td>\n",
       "      <td>1773.535034</td>\n",
       "      <td>1787.979980</td>\n",
       "      <td>1807.209961</td>\n",
       "      <td>1807.209961</td>\n",
       "      <td>GOOG</td>\n",
       "    </tr>\n",
       "  </tbody>\n",
       "</table>\n",
       "</div>"
      ],
      "text/plain": [
       "         Date   Volume         High          Low         Open        Close  \\\n",
       "0  2021-01-04  1901900  1760.650024  1707.849976  1757.540039  1728.239990   \n",
       "1  2021-01-05  1145300  1747.670044  1718.015015  1725.000000  1740.920044   \n",
       "2  2021-01-06  2602100  1748.000000  1699.000000  1702.630005  1735.290039   \n",
       "3  2021-01-07  2265000  1788.400024  1737.050049  1740.060059  1787.250000   \n",
       "4  2021-01-08  2050600  1809.839966  1773.535034  1787.979980  1807.209961   \n",
       "\n",
       "     Adj Close Ticker  \n",
       "0  1728.239990   GOOG  \n",
       "1  1740.920044   GOOG  \n",
       "2  1735.290039   GOOG  \n",
       "3  1787.250000   GOOG  \n",
       "4  1807.209961   GOOG  "
      ]
     },
     "execution_count": 15,
     "metadata": {},
     "output_type": "execute_result"
    }
   ],
   "source": [
    "df3=pd.read_csv('data/Stocks.csv')\n",
    "df3.head()"
   ]
  },
  {
   "cell_type": "code",
   "execution_count": 27,
   "id": "e42382f5",
   "metadata": {},
   "outputs": [
    {
     "data": {
      "text/plain": [
       "Text(0, 0.5, 'Adj Close')"
      ]
     },
     "execution_count": 27,
     "metadata": {},
     "output_type": "execute_result"
    },
    {
     "data": {
      "image/png": "[encoded data removed]",
      "text/plain": [
       "<Figure size 864x864 with 6 Axes>"
      ]
     },
     "metadata": {
      "needs_background": "light"
     },
     "output_type": "display_data"
    }
   ],
   "source": [
    "fig, ax=plt.subplots(2,3,figsize=(12,12))\n",
    "ax[0,0].plot(df3['Date'],df3['Volume'])\n",
    "ax[0,0].set_ylabel('volume')\n",
    "\n",
    "ax[0,1].plot(df3['Date'],df3['High'])\n",
    "ax[0,1].set_ylabel('High')\n",
    "ax[0,2].plot(df3['Date'],df3['Low'])\n",
    "ax[0,2].set_ylabel('Low')\n",
    "\n",
    "ax[1,0].plot(df3['Date'],df3['Open'])\n",
    "ax[1,1].plot(df3['Date'],df3['Close'])\n",
    "ax[1,2].plot(df3['Date'],df3['Adj Close'])\n",
    "ax[1,0].set_ylabel('Open')\n",
    "ax[1,1].set_ylabel('Close')\n",
    "ax[1,2].set_ylabel('Adj Close')"
   ]
  },
  {
   "cell_type": "markdown",
   "id": "83c6113b",
   "metadata": {},
   "source": [
    "# Using Sales.csv \n",
    "* make a time series chart that shows the sales for each item over the past 12 months.  \n",
    "* What does this tell you about the items.  \n",
    "* Which item would you recommend they push more of and which item/s would you recommend they stop selling?\n",
    "* show what percentage of each item contributes to total sales. \n"
   ]
  },
  {
   "cell_type": "code",
   "execution_count": 6,
   "id": "a26211af",
   "metadata": {},
   "outputs": [
    {
     "data": {
      "text/html": [
       "<div>\n",
       "<style scoped>\n",
       "    .dataframe tbody tr th:only-of-type {\n",
       "        vertical-align: middle;\n",
       "    }\n",
       "\n",
       "    .dataframe tbody tr th {\n",
       "        vertical-align: top;\n",
       "    }\n",
       "\n",
       "    .dataframe thead th {\n",
       "        text-align: right;\n",
       "    }\n",
       "</style>\n",
       "<table border=\"1\" class=\"dataframe\">\n",
       "  <thead>\n",
       "    <tr style=\"text-align: right;\">\n",
       "      <th></th>\n",
       "      <th>month_number</th>\n",
       "      <th>facecream</th>\n",
       "      <th>facewash</th>\n",
       "      <th>toothpaste</th>\n",
       "      <th>bathingsoap</th>\n",
       "      <th>shampoo</th>\n",
       "      <th>moisturizer</th>\n",
       "    </tr>\n",
       "  </thead>\n",
       "  <tbody>\n",
       "    <tr>\n",
       "      <th>0</th>\n",
       "      <td>1</td>\n",
       "      <td>2500</td>\n",
       "      <td>1500</td>\n",
       "      <td>5200</td>\n",
       "      <td>9200</td>\n",
       "      <td>1200</td>\n",
       "      <td>1500</td>\n",
       "    </tr>\n",
       "    <tr>\n",
       "      <th>1</th>\n",
       "      <td>2</td>\n",
       "      <td>2630</td>\n",
       "      <td>1200</td>\n",
       "      <td>5100</td>\n",
       "      <td>6100</td>\n",
       "      <td>2100</td>\n",
       "      <td>1200</td>\n",
       "    </tr>\n",
       "    <tr>\n",
       "      <th>2</th>\n",
       "      <td>3</td>\n",
       "      <td>2140</td>\n",
       "      <td>1340</td>\n",
       "      <td>4550</td>\n",
       "      <td>9550</td>\n",
       "      <td>3550</td>\n",
       "      <td>1340</td>\n",
       "    </tr>\n",
       "    <tr>\n",
       "      <th>3</th>\n",
       "      <td>4</td>\n",
       "      <td>3400</td>\n",
       "      <td>1130</td>\n",
       "      <td>5870</td>\n",
       "      <td>8870</td>\n",
       "      <td>1870</td>\n",
       "      <td>1130</td>\n",
       "    </tr>\n",
       "    <tr>\n",
       "      <th>4</th>\n",
       "      <td>5</td>\n",
       "      <td>3600</td>\n",
       "      <td>1740</td>\n",
       "      <td>4560</td>\n",
       "      <td>7760</td>\n",
       "      <td>1560</td>\n",
       "      <td>1740</td>\n",
       "    </tr>\n",
       "    <tr>\n",
       "      <th>5</th>\n",
       "      <td>6</td>\n",
       "      <td>2760</td>\n",
       "      <td>1555</td>\n",
       "      <td>4890</td>\n",
       "      <td>7490</td>\n",
       "      <td>1890</td>\n",
       "      <td>1555</td>\n",
       "    </tr>\n",
       "    <tr>\n",
       "      <th>6</th>\n",
       "      <td>7</td>\n",
       "      <td>2980</td>\n",
       "      <td>1120</td>\n",
       "      <td>4780</td>\n",
       "      <td>8980</td>\n",
       "      <td>1780</td>\n",
       "      <td>1120</td>\n",
       "    </tr>\n",
       "    <tr>\n",
       "      <th>7</th>\n",
       "      <td>8</td>\n",
       "      <td>3700</td>\n",
       "      <td>1400</td>\n",
       "      <td>5860</td>\n",
       "      <td>9960</td>\n",
       "      <td>2860</td>\n",
       "      <td>1400</td>\n",
       "    </tr>\n",
       "    <tr>\n",
       "      <th>8</th>\n",
       "      <td>9</td>\n",
       "      <td>3540</td>\n",
       "      <td>1780</td>\n",
       "      <td>6100</td>\n",
       "      <td>8100</td>\n",
       "      <td>2100</td>\n",
       "      <td>1780</td>\n",
       "    </tr>\n",
       "    <tr>\n",
       "      <th>9</th>\n",
       "      <td>10</td>\n",
       "      <td>1990</td>\n",
       "      <td>1890</td>\n",
       "      <td>8300</td>\n",
       "      <td>10300</td>\n",
       "      <td>2300</td>\n",
       "      <td>1890</td>\n",
       "    </tr>\n",
       "    <tr>\n",
       "      <th>10</th>\n",
       "      <td>11</td>\n",
       "      <td>2340</td>\n",
       "      <td>2100</td>\n",
       "      <td>7300</td>\n",
       "      <td>13300</td>\n",
       "      <td>2400</td>\n",
       "      <td>2100</td>\n",
       "    </tr>\n",
       "    <tr>\n",
       "      <th>11</th>\n",
       "      <td>12</td>\n",
       "      <td>2900</td>\n",
       "      <td>1760</td>\n",
       "      <td>7400</td>\n",
       "      <td>14400</td>\n",
       "      <td>1800</td>\n",
       "      <td>1760</td>\n",
       "    </tr>\n",
       "  </tbody>\n",
       "</table>\n",
       "</div>"
      ],
      "text/plain": [
       "    month_number  facecream  facewash  toothpaste  bathingsoap  shampoo  \\\n",
       "0              1       2500      1500        5200         9200     1200   \n",
       "1              2       2630      1200        5100         6100     2100   \n",
       "2              3       2140      1340        4550         9550     3550   \n",
       "3              4       3400      1130        5870         8870     1870   \n",
       "4              5       3600      1740        4560         7760     1560   \n",
       "5              6       2760      1555        4890         7490     1890   \n",
       "6              7       2980      1120        4780         8980     1780   \n",
       "7              8       3700      1400        5860         9960     2860   \n",
       "8              9       3540      1780        6100         8100     2100   \n",
       "9             10       1990      1890        8300        10300     2300   \n",
       "10            11       2340      2100        7300        13300     2400   \n",
       "11            12       2900      1760        7400        14400     1800   \n",
       "\n",
       "    moisturizer  \n",
       "0          1500  \n",
       "1          1200  \n",
       "2          1340  \n",
       "3          1130  \n",
       "4          1740  \n",
       "5          1555  \n",
       "6          1120  \n",
       "7          1400  \n",
       "8          1780  \n",
       "9          1890  \n",
       "10         2100  \n",
       "11         1760  "
      ]
     },
     "execution_count": 6,
     "metadata": {},
     "output_type": "execute_result"
    }
   ],
   "source": [
    "df4=pd.read_csv('data/Sales.csv')\n",
    "df4"
   ]
  },
  {
   "cell_type": "code",
   "execution_count": 35,
   "id": "62ad5143",
   "metadata": {},
   "outputs": [
    {
     "data": {
      "text/plain": [
       "<AxesSubplot:xlabel='month_number'>"
      ]
     },
     "execution_count": 35,
     "metadata": {},
     "output_type": "execute_result"
    },
    {
     "data": {
      "image/png": "[encoded data removed]",
      "text/plain": [
       "<Figure size 432x288 with 1 Axes>"
      ]
     },
     "metadata": {
      "needs_background": "light"
     },
     "output_type": "display_data"
    }
   ],
   "source": [
    "df4.plot(x='month_number',y=['facecream','facewash','toothpaste','bathingsoap','shampoo','moisturizer'])\n",
    "\n"
   ]
  },
  {
   "cell_type": "code",
   "execution_count": null,
   "id": "9925c33d",
   "metadata": {},
   "outputs": [],
   "source": []
  }
 ],
 "metadata": {
  "kernelspec": {
   "display_name": "Python 3 (ipykernel)",
   "language": "python",
   "name": "python3"
  },
  "language_info": {
   "codemirror_mode": {
    "name": "ipython",
    "version": 3
   },
   "file_extension": ".py",
   "mimetype": "text/x-python",
   "name": "python",
   "nbconvert_exporter": "python",
   "pygments_lexer": "ipython3",
   "version": "3.9.12"
  }
 },
 "nbformat": 4,
 "nbformat_minor": 5
}
