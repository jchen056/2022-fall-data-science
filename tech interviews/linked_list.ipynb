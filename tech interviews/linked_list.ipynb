{
 "cells": [
  {
   "cell_type": "markdown",
   "id": "2d49a8f4",
   "metadata": {},
   "source": [
    "# Linked List\n",
    "1. The main advantage of a linked list is that you can add and remove elements at any position in O(1). \n",
    "2. The caveat is that you need to have a reference to a node at the position in which you want to perform the addition/removal, otherwise the operation is O(n).\n",
    "3. However, this is still much better than a normal (dynamic) array, which requires O(n)for adding and removing from an arbitrary position.\n",
    "4. The main disadvantage of a linked list is that there is no random access. If you have a large linked list and want to access the 150,000th element, then there usually isn't a better way than to start at the head and iterate 150,000 times. So while an array has O(1)indexing, a linked list has O(n).\n",
    "5. linked lists have the advantage of not having fixed sizes. While dynamic arrays can be resized, under the hood they still are allocated a fixed size\n",
    "6. However, linked lists have more overhead than arrays - every element needs to have extra storage for the pointers. "
   ]
  },
  {
   "cell_type": "code",
   "execution_count": 1,
   "id": "b9284fda",
   "metadata": {},
   "outputs": [
    {
     "name": "stdout",
     "output_type": "stream",
     "text": [
      "1\n",
      "2\n",
      "3\n"
     ]
    }
   ],
   "source": [
    "class ListNode:\n",
    "    def __init__(self, val):\n",
    "        self.val = val\n",
    "        self.next = None\n",
    "    \n",
    "one = ListNode(1)\n",
    "two = ListNode(2)\n",
    "three = ListNode(3)\n",
    "one.next = two\n",
    "two.next = three\n",
    "head = one\n",
    "\n",
    "print(head.val)\n",
    "print(head.next.val)\n",
    "print(head.next.next.val)"
   ]
  },
  {
   "cell_type": "code",
   "execution_count": 4,
   "id": "c6c2839b",
   "metadata": {},
   "outputs": [],
   "source": [
    "def get_sum(head):#iterative method to find the sum\n",
    "    ans = 0\n",
    "    while head:\n",
    "        ans += head.val\n",
    "        head = head.next\n",
    "    \n",
    "    return ans\n",
    "\n",
    "def get_sum(head):#recursive\n",
    "    if not head:\n",
    "        return 0\n",
    "    \n",
    "    return head.val + get_sum(head.next)"
   ]
  },
  {
   "cell_type": "code",
   "execution_count": 6,
   "id": "f6a4d258",
   "metadata": {},
   "outputs": [],
   "source": [
    "# Let prev_node be the node at position i - 1\n",
    "def add_node(prev_node, node_to_add):\n",
    "    node_to_add.next = prev_node.next\n",
    "    prev_node.next = node_to_add\n",
    "\n",
    "# Let prev_node be the node at position i - 1\n",
    "#without the reference to the prev_node, you have to iterate from the head, which is O(n)\n",
    "def delete_node(prev_node):\n",
    "    prev_node.next = prev_node.next.next"
   ]
  },
  {
   "cell_type": "markdown",
   "id": "cf74b570",
   "metadata": {},
   "source": [
    "# Doubly Linked List\n",
    "A doubly linked list is like a singly linked list, but each node also contains a pointer to the previous node. This pointer is usually called prev, and it allows iteration in both directions."
   ]
  },
  {
   "cell_type": "code",
   "execution_count": 7,
   "id": "b23abfc5",
   "metadata": {},
   "outputs": [],
   "source": [
    "class ListNode:\n",
    "    def __init__(self, val):\n",
    "        self.val = val\n",
    "        self.next = None\n",
    "        self.prev = None\n",
    "\n",
    "# Let node be the node at position i\n",
    "def add_node(node, node_to_add):\n",
    "    prev_node = node.prev\n",
    "    node_to_add.next = node\n",
    "    node_to_add.prev = prev_node\n",
    "    prev_node.next = node_to_add\n",
    "    node.prev = node_to_add\n",
    "\n",
    "# Let node be the node at position i\n",
    "def delete_node(node):# prone to error when deleting the last node because last_node.next will be null\n",
    "    prev_node = node.prev\n",
    "    next_node = node.next\n",
    "    prev_node.next = next_node\n",
    "    next_node.prev = prev_node"
   ]
  },
  {
   "cell_type": "markdown",
   "id": "df5b1f2c",
   "metadata": {},
   "source": [
    "Sentinel nodes\n",
    "\n",
    "1. Sentinel nodes sit at the start and end of linked lists and are used to make operations and the code needed to execute those operations cleaner.\n",
    "2. The idea is that, even when there are no nodes in a linked list, you still keep pointers to a head and tail. The real head of the linked list is head.next and the real tail is tail.prev."
   ]
  },
  {
   "cell_type": "code",
   "execution_count": 8,
   "id": "8d37e15e",
   "metadata": {},
   "outputs": [],
   "source": [
    "class ListNode:\n",
    "    def __init__(self, val):\n",
    "        self.val = val\n",
    "        self.next = None\n",
    "        self.prev = None\n",
    "\n",
    "def add_to_end(node_to_add):\n",
    "    node_to_add.next = tail\n",
    "    node_to_add.prev = tail.prev\n",
    "    tail.prev.next = node_to_add\n",
    "    tail.prev = node_to_add\n",
    "\n",
    "def remove_from_end():\n",
    "    if head.next == tail:\n",
    "        return\n",
    "\n",
    "    node_to_remove = tail.prev\n",
    "    node_to_remove.prev.next = tail\n",
    "    tail.prev = node_to_remove.prev\n",
    "\n",
    "def add_to_start(node_to_add):\n",
    "    node_to_add.prev = head\n",
    "    node_to_add.next = head.next\n",
    "    head.next.prev = node_to_add\n",
    "    head.next = node_to_add\n",
    "\n",
    "def remove_from_start():\n",
    "    if head.next == tail:\n",
    "        return\n",
    "    \n",
    "    node_to_remove = head.next\n",
    "    node_to_remove.next.prev = head\n",
    "    head.next = node_to_remove.next\n",
    "\n",
    "head = ListNode(None)\n",
    "tail = ListNode(None)\n",
    "head.next = tail\n",
    "tail.prev = head"
   ]
  },
  {
   "cell_type": "code",
   "execution_count": 9,
   "id": "85c56331",
   "metadata": {},
   "outputs": [],
   "source": [
    "add_to_end(ListNode(1))\n",
    "add_to_end(ListNode(2))\n",
    "add_to_end(ListNode(3))"
   ]
  },
  {
   "cell_type": "code",
   "execution_count": 14,
   "id": "b370005a",
   "metadata": {},
   "outputs": [
    {
     "data": {
      "text/plain": [
       "3"
      ]
     },
     "execution_count": 14,
     "metadata": {},
     "output_type": "execute_result"
    }
   ],
   "source": [
    "head.next.next.next.val"
   ]
  },
  {
   "cell_type": "code",
   "execution_count": null,
   "id": "852b7c91",
   "metadata": {},
   "outputs": [],
   "source": []
  }
 ],
 "metadata": {
  "kernelspec": {
   "display_name": "Python 3 (ipykernel)",
   "language": "python",
   "name": "python3"
  },
  "language_info": {
   "codemirror_mode": {
    "name": "ipython",
    "version": 3
   },
   "file_extension": ".py",
   "mimetype": "text/x-python",
   "name": "python",
   "nbconvert_exporter": "python",
   "pygments_lexer": "ipython3",
   "version": "3.9.12"
  }
 },
 "nbformat": 4,
 "nbformat_minor": 5
}
