{
 "cells": [
  {
   "cell_type": "markdown",
   "metadata": {},
   "source": [
    "Example 1: Return true if a given string is a palindrome, false otherwise.\n",
    "\n",
    "A string is a palindrome if it reads the same forwards as backwards. That means, after reversing it, it is still the same string. For example: \"abcdcba\", or \"racecar\"."
   ]
  },
  {
   "cell_type": "code",
   "execution_count": 1,
   "metadata": {},
   "outputs": [],
   "source": [
    "def check_if_palindrome(s):\n",
    "    left = 0\n",
    "    right = len(s) - 1\n",
    "\n",
    "    while left < right:\n",
    "        if s[left] != s[right]:\n",
    "            return False\n",
    "        left += 1\n",
    "        right -= 1\n",
    "    \n",
    "    return True"
   ]
  },
  {
   "cell_type": "code",
   "execution_count": 2,
   "metadata": {},
   "outputs": [
    {
     "data": {
      "text/plain": [
       "True"
      ]
     },
     "execution_count": 2,
     "metadata": {},
     "output_type": "execute_result"
    }
   ],
   "source": [
    "check_if_palindrome('racecar')"
   ]
  },
  {
   "cell_type": "markdown",
   "metadata": {},
   "source": [
    "Example 2: Given a sorted array of unique integers and a target integer, return true if there exists a pair of numbers that sum to target, false otherwise. This problem is similar to Two Sum.\n",
    "\n",
    "For example, given nums = [1, 2, 4, 6, 8, 9, 14, 15] and target = 13, return true because 4 + 9 = 13."
   ]
  },
  {
   "cell_type": "code",
   "execution_count": 5,
   "metadata": {},
   "outputs": [
    {
     "data": {
      "text/plain": [
       "True"
      ]
     },
     "execution_count": 5,
     "metadata": {},
     "output_type": "execute_result"
    }
   ],
   "source": [
    "#brute force approach\n",
    "def two_sum(A):\n",
    "    n=len(A)#number of elements in A\n",
    "    for i in range(n):\n",
    "        for j in range(i,n-1):\n",
    "            if A[i]+A[j]==13:\n",
    "                return True\n",
    "    return False\n",
    "# two_sum([1, 2, 4, 6, 8, 9, 14, 15])\n",
    "\n",
    "def sum_two(A):\n",
    "    n=len(A)#number of elements in A\n",
    "    i=0\n",
    "    j=n-1\n",
    "    while i<j:\n",
    "        if A[i]+A[j]==13:\n",
    "            return True\n",
    "        if A[i]+A[j]>13:\n",
    "            j-=1\n",
    "        if A[i]+A[j]<13:\n",
    "            i+=1\n",
    "    return False\n",
    "sum_two([1, 2, 4, 6, 8, 9, 14, 15])"
   ]
  },
  {
   "cell_type": "markdown",
   "metadata": {},
   "source": [
    "Algorithms are beautiful because of how abstract they are - two-pointers can be implemented in many ways. Let's look at another method. The following method is applicable when the problem has two iterables in the input, for example, two arrays.\n",
    "\n",
    "Create two pointers, one for each iterable. Each pointer should start at the first index.\n",
    "Use a while loop until one of the pointers reaches the end of its iterable.\n",
    "At each iteration of the loop, move the pointers forwards. This means incrementing either one of the pointers or both of the pointers. Deciding which pointers to move will depend on the problem we are trying to solve.\n",
    "Because our while loop will stop when one of the pointers reaches the end, the other pointer will not be at the end when the loop finishes. Sometimes, we need to iterate through all elements - if this is the case, you will need to write extra code here to make sure both iterables are exhausted.\n",
    "\n",
    "Example 3: Given two sorted integer arrays, return an array that combines both of them and is also sorted."
   ]
  },
  {
   "cell_type": "code",
   "execution_count": 6,
   "metadata": {},
   "outputs": [
    {
     "data": {
      "text/plain": [
       "[1, 3, 4, 6, 6, 7, 9, 10]"
      ]
     },
     "execution_count": 6,
     "metadata": {},
     "output_type": "execute_result"
    }
   ],
   "source": [
    "def combine_arrays(A,B):#A,B are sorted arrays\n",
    "    n=len(A)\n",
    "    m=len(B)\n",
    "    i=0\n",
    "    j=0\n",
    "    C=[]\n",
    "    while i<n and j<m:\n",
    "        if A[i]<=B[j]:\n",
    "            C.append(A[i])\n",
    "            i+=1\n",
    "        else:\n",
    "            C.append(B[j])\n",
    "            j+=1\n",
    "    while i<n:\n",
    "        C.append(A[i])\n",
    "        i+=1\n",
    "    while j<m:\n",
    "        C.append(B[j])\n",
    "        j+=1\n",
    "    return C\n",
    "            \n",
    "combine_arrays([1,4,6,7],[3,6,9,10])     \n",
    "        "
   ]
  },
  {
   "cell_type": "markdown",
   "metadata": {},
   "source": [
    "Example 4: 392. Is Subsequence.\n",
    "\n",
    "Given two strings s and t, return true if s is a subsequence of t, or false otherwise.\n",
    "\n",
    "A subsequence of a string is a new string that is formed from the original string by deleting some (can be none) of the characters without disturbing the relative positions of the remaining characters. (i.e., \"ace\" is a subsequence of \"abcde\" while \"aec\" is not)."
   ]
  },
  {
   "cell_type": "code",
   "execution_count": 8,
   "metadata": {},
   "outputs": [
    {
     "data": {
      "text/plain": [
       "True"
      ]
     },
     "execution_count": 8,
     "metadata": {},
     "output_type": "execute_result"
    }
   ],
   "source": [
    "def is_substring(s,t):\n",
    "    n=len(s)\n",
    "    m=len(t)\n",
    "    if n>m:#impossible for s to be a subseqeunce of t\n",
    "        return False\n",
    "    else:\n",
    "        i,j=0,0\n",
    "        while i<n and j<m:\n",
    "            if s[i]==t[j]:\n",
    "                i+=1\n",
    "                j+=1\n",
    "            else:\n",
    "                j+=1\n",
    "    if i==n:\n",
    "        return True\n",
    "    return False\n",
    "\n",
    "is_substring(\"ace\",\"abcde\")"
   ]
  },
  {
   "cell_type": "code",
   "execution_count": null,
   "metadata": {},
   "outputs": [],
   "source": []
  }
 ],
 "metadata": {
  "kernelspec": {
   "display_name": "Python 3",
   "language": "python",
   "name": "python3"
  },
  "language_info": {
   "codemirror_mode": {
    "name": "ipython",
    "version": 3
   },
   "file_extension": ".py",
   "mimetype": "text/x-python",
   "name": "python",
   "nbconvert_exporter": "python",
   "pygments_lexer": "ipython3",
   "version": "3.8.5"
  }
 },
 "nbformat": 4,
 "nbformat_minor": 4
}
