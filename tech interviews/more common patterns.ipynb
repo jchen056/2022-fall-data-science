{
 "cells": [
  {
   "cell_type": "markdown",
   "metadata": {},
   "source": [
    "# Sliding window \n",
    "another common approach to solving problems related to arrays. Interestingly, a sliding window is actually implemented using two-pointers!\n",
    "\n",
    "The idea behind the sliding window technique is to efficiently find the \"best\" window that fits some constraint. Usually, the problem description will define what makes a window \"better\" (shorter length, larger sum etc.) and the constraint.\n",
    "\n",
    "Imagine that a problem wanted the length of the longest subarray with a sum less than or equal to k for an array with positive numbers. In this case, the constraint is sum(window) <= k, and the longer the window, the better it is. The general algorithm behind sliding window is:\n",
    "1. Define a pointer for the left and right bound that represents the current window, usually both of them starting at 0.\n",
    "2. Iterate over the array with the right bound to \"add\" elements to the window.\n",
    "3. Whenever the constraint is broken, in this example if the sum of the window exceeds k, then \"remove\" elements from the window by incrementing the left bound until the condition is satisfied again.\n",
    "\n",
    "Example 1: Given an array of positive integers nums and an integer k, find the length of the longest subarray whose sum is less than or equal to k."
   ]
  },
  {
   "cell_type": "code",
   "execution_count": 4,
   "metadata": {},
   "outputs": [
    {
     "data": {
      "text/plain": [
       "5"
      ]
     },
     "execution_count": 4,
     "metadata": {},
     "output_type": "execute_result"
    }
   ],
   "source": [
    "def subarr_len(arr,k):\n",
    "    left=0\n",
    "    curr=arr[0]#tracks the sum of the current window\n",
    "    max_len=1\n",
    "    for right in range(1,len(arr)):\n",
    "        curr+=arr[right]\n",
    "        while left<right and curr>k:\n",
    "            curr-=arr[left]\n",
    "            left+=1\n",
    "        max_len=max(max_len,right-left+1)\n",
    "    return max_len\n",
    "        \n",
    "subarr_len([3, 1, 2, 7, 1,2, 2, 1, 1, 5],8) "
   ]
  },
  {
   "cell_type": "markdown",
   "metadata": {},
   "source": [
    "Example 2: You are given a binary substring s (a string containing only \"0\" and \"1\"). An operation involves flipping a \"0\" into a \"1\". What is the length of the longest substring containing only \"1\" after performing at most one operation?\n",
    "\n",
    "what is the longest substring that contains at most one \"0\"?\". This makes it easy for us to solve with a sliding window where our condition is window.count(\"0\") <= 1"
   ]
  },
  {
   "cell_type": "code",
   "execution_count": null,
   "metadata": {},
   "outputs": [],
   "source": []
  },
  {
   "cell_type": "markdown",
   "metadata": {},
   "source": [
    "In most languages, strings are immutable. This means concatenating a single character to a string is an O(n)O(n) operation. If you have a string that is 1 million characters long, and you want to add one more character, all 1 million characters need to be copied over to another string.\n",
    "\n",
    "There are better ways to build strings in O(n)O(n) time.\n",
    "1. Declare a list\n",
    "2. When building the string, add the characters to the list. This is O(1)O(1) per operation.\n",
    "3. Once finished, convert the list to a string using \"\".join(list). This is O(n)."
   ]
  },
  {
   "cell_type": "code",
   "execution_count": null,
   "metadata": {},
   "outputs": [],
   "source": [
    "def build_string(s):\n",
    "    arr = []\n",
    "    for c in s:\n",
    "        arr.append(c)\n",
    "\n",
    "    return \"\".join(arr)"
   ]
  },
  {
   "cell_type": "markdown",
   "metadata": {},
   "source": [
    "# substring/subarray\n",
    "As a reminder, a subarray or substring is a contiguous section of an array or string.\n",
    "If a problem has explicit constraints such as:\n",
    "1. Sum greater than or less than k\n",
    "2. Limits on what is contained, such as the maximum of k unique elements or no duplicates allowed\n",
    "And/or asks for:\n",
    "3. Minimum or maximum length\n",
    "4. Number of subarrays/substrings\n",
    "5. Max or minimum sum\n",
    "\n",
    "# subsequence\n",
    "A subsequence is a portion of an array/string that keeps the same order but doesn't need to be contiguous.\n",
    "\n",
    "For example, subsequences of [1, 2, 3, 4] include: [1, 3], [4], [], [2, 3], but not [3, 2], [5], [4, 1].\n",
    "the most common one associated with subsequences is two pointers when two input arrays/strings are given.\n",
    "\n",
    "# subset\n",
    "A subset is any group of elements from the original array or string. The order doesn't matter and neither do the elements being beside each other. For example, given [1, 2, 3, 4], all of these are subsets: [3, 2], [4, 1, 2], [1]. Note: subsets that contain the same elements are considered the same, so [1, 2, 4] is the same subset as [4, 1, 2].\n",
    "\n",
    "\n",
    "# Difference array\n",
    "Difference arrays are not super common, but an important to know as it is very difficult to derive on the spot in an interview. This method can be used when the input is a 2D array, where input[i] is in the format [left, right, value], or some equivalent form. The story behind the problem will usually be something along the lines of \"between left and right, there is value of something. Let's look at an example."
   ]
  },
  {
   "cell_type": "markdown",
   "metadata": {},
   "source": [
    "A car has room for capacity passengers, and is given an array trips. Each trip is represented by [numPassengers, from, to], which indicates that at from, it picks up numPassengers, then drops them off at to. Can it complete all the trips without holding more passengers than capacity at any time?\n",
    "\n",
    "A good method to solve this problem is to create an array arr which has a size equal to the largest value of right. In this case, it would be max(trip[2]) for all trip in trips. Then, iterate over input - for each value, in this case numPassengers, increment arr[left] (in this case arr[from]) by the value, and decrement arr[right] (in this case arr[to]) by the value."
   ]
  }
 ],
 "metadata": {
  "kernelspec": {
   "display_name": "Python 3",
   "language": "python",
   "name": "python3"
  },
  "language_info": {
   "codemirror_mode": {
    "name": "ipython",
    "version": 3
   },
   "file_extension": ".py",
   "mimetype": "text/x-python",
   "name": "python",
   "nbconvert_exporter": "python",
   "pygments_lexer": "ipython3",
   "version": "3.8.5"
  }
 },
 "nbformat": 4,
 "nbformat_minor": 4
}
