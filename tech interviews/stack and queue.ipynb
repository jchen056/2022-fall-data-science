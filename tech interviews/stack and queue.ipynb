{
 "cells": [
  {
   "cell_type": "markdown",
   "metadata": {},
   "source": [
    "# stake: LIFO(last in first out)\n",
    "\n",
    "push(item): push the item to the top of the stack\n",
    "pop(item): remove and return the top item\n",
    "peek(item): return the top item without removing it\n",
    "\n",
    "is_empty"
   ]
  },
  {
   "cell_type": "code",
   "execution_count": 24,
   "metadata": {},
   "outputs": [],
   "source": [
    "#use a class to represent a stack\n",
    "#append(): add item to top of the stack\n",
    "#pop(): remove item from the top of the stack\n",
    "#both happen from the right\n",
    "class Stack:\n",
    "    def __init__(self,A=[]):#constructor\n",
    "        self.items=A\n",
    "        \n",
    "    def is_empty(self):\n",
    "        return len(self.items)==0\n",
    "    \n",
    "    def push(self,item):\n",
    "        self.items.append(item)\n",
    "        \n",
    "    def pop(self):\n",
    "        return self.items.pop()\n",
    "    \n",
    "    def peek(self):\n",
    "        return self.items[-1]\n",
    "    \n",
    "    def size(self):\n",
    "        return len(self.items)\n",
    "    \n",
    "    def __str__(self):#print statement\n",
    "        return str(self.items)"
   ]
  },
  {
   "cell_type": "code",
   "execution_count": 25,
   "metadata": {},
   "outputs": [
    {
     "name": "stdout",
     "output_type": "stream",
     "text": [
      "[]\n",
      "True\n",
      "[3]\n",
      "[3, 7, 5]\n",
      "5\n",
      "[3, 7]\n",
      "7\n",
      "[3, 7]\n",
      "2\n"
     ]
    }
   ],
   "source": [
    "if __name__==\"__main__\":#if that is the main file to be run, execute the following\n",
    "    s=Stack()\n",
    "    print(s)\n",
    "    print(s.is_empty())\n",
    "    s.push(3)\n",
    "    print(s)\n",
    "    s.push(7)\n",
    "    s.push(5)\n",
    "    print(s)\n",
    "    print(s.pop())\n",
    "    print(s)\n",
    "    print(s.peek())\n",
    "    print(s)\n",
    "    print(s.size())"
   ]
  },
  {
   "cell_type": "code",
   "execution_count": 29,
   "metadata": {},
   "outputs": [
    {
     "name": "stdout",
     "output_type": "stream",
     "text": [
      "gfedcba\n"
     ]
    }
   ],
   "source": [
    "#reverse the order of the string by using the stack\n",
    "string=list(\"abcdefg\")\n",
    "reversed_string=[]\n",
    "s=Stack(string)\n",
    "while s.is_empty()==False:\n",
    "    reversed_string.append(s.pop())\n",
    "print(\"\".join(reversed_string))"
   ]
  },
  {
   "cell_type": "markdown",
   "metadata": {},
   "source": [
    "# Queue (FIFO)\n",
    "1. enqueue: add an item to the end of the queue\n",
    "2. dequeue: remove and return the item to the front"
   ]
  },
  {
   "cell_type": "code",
   "execution_count": 33,
   "metadata": {},
   "outputs": [],
   "source": [
    "from collections import deque\n",
    "\n",
    "#Deque is preferred over a list in the cases where we need quicker append and pop operations from both the ends of the container, as deque provides an O(1) time complexity for append and pop operations as compared to a list that provides O(n) time complexity.\n",
    "class Queue:\n",
    "    def __init__(self):\n",
    "        self.items=deque()\n",
    "        \n",
    "    def is_empty(self):\n",
    "        return not self.items\n",
    "    \n",
    "    def enqueue(self,item):\n",
    "        self.items.append(item)\n",
    "        \n",
    "    def dequeue(self):\n",
    "        return self.items.popleft()\n",
    "    \n",
    "    def size(self):\n",
    "        return len(self.items)\n",
    "    \n",
    "    def peek(self):\n",
    "        return self.items[0]\n",
    "    \n",
    "    def __str__(self):\n",
    "        return str(self.items)"
   ]
  },
  {
   "cell_type": "code",
   "execution_count": 38,
   "metadata": {},
   "outputs": [
    {
     "name": "stdout",
     "output_type": "stream",
     "text": [
      "deque([])\n",
      "deque([5, 6])\n",
      "5\n",
      "deque([6])\n"
     ]
    }
   ],
   "source": [
    "if __name__==\"__main__\":\n",
    "    q=Queue()\n",
    "    print(q)\n",
    "    \n",
    "    q.enqueue(5)\n",
    "    q.enqueue(6)\n",
    "    print(q)\n",
    "    print(q.dequeue())\n",
    "    print(q)\n",
    "    "
   ]
  },
  {
   "cell_type": "markdown",
   "metadata": {},
   "source": [
    "# 2D lists: list of lists\n",
    "a myriad of applications\n",
    "1. 2d lists and graphs: undirected, directed, weights\n",
    "2. cartesian coordinates, matrix coordinates(row, column)"
   ]
  },
  {
   "cell_type": "markdown",
   "metadata": {},
   "source": [
    "# Depth first search: \n",
    "optimization, pathfinding, scheduling, assessing investment decision trees\n",
    "predecessors: {start_pos: none}\n",
    "\n",
    "algorithm:\n",
    "1. pop the stack\n",
    "2. is this the goal\n",
    "3. if so, we are done\n",
    "4. otherwise, push undiscovered neighbors onto the stack and update the predecessors\n",
    "5. repeat while there are items still on the stack"
   ]
  },
  {
   "cell_type": "code",
   "execution_count": null,
   "metadata": {},
   "outputs": [],
   "source": [
    "offsets={\"right\":(0,1),\"left\":(0,-1),\"up\":(-1,0),\"down\":(1,0)}\n",
    "\n",
    "def dfs(maze,start,goal):#start position is a tuple\n",
    "    stack=Stack()\n",
    "    stack.push(start)\n",
    "    precedessors={start: None}\n",
    "    while not stack.is_empty():\n",
    "        current_cell=stack.pop()\n",
    "        if current_cell==goal:\n",
    "            return get_path(precedessors,start,goal)\n",
    "        for direction in [\"up\",'right','down','left']:\n",
    "            row_offset,col_offset=offsets[direction]\n",
    "            neighbour=(current_cell[0]+row_offset,current_cell[1]+col_offset)\n",
    "            if is_legal_pos(maze,neighbour) and not in precedessors:\n",
    "                stack.push(neighbour)\n",
    "                predecessors[neighbour]=current_cell\n",
    "    return None"
   ]
  }
 ],
 "metadata": {
  "kernelspec": {
   "display_name": "Python 3",
   "language": "python",
   "name": "python3"
  },
  "language_info": {
   "codemirror_mode": {
    "name": "ipython",
    "version": 3
   },
   "file_extension": ".py",
   "mimetype": "text/x-python",
   "name": "python",
   "nbconvert_exporter": "python",
   "pygments_lexer": "ipython3",
   "version": "3.8.5"
  }
 },
 "nbformat": 4,
 "nbformat_minor": 4
}
